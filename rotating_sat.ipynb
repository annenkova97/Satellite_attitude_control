{
 "cells": [
  {
   "cell_type": "code",
   "execution_count": 1,
   "metadata": {},
   "outputs": [],
   "source": [
    "import numpy as np\n",
    "from scipy.integrate import solve_ivp \n",
    "from matplotlib import pyplot as plt\n",
    "%matplotlib inline "
   ]
  },
  {
   "cell_type": "code",
   "execution_count": 2,
   "metadata": {},
   "outputs": [],
   "source": [
    "def normalize(obj):\n",
    "\n",
    "    return obj / np.linalg.norm(obj)\n",
    "\n",
    "def skew_symm(vec):\n",
    "\n",
    "    if vec.ndim != 1:\n",
    "        raise Exception(\"Not a vector\")\n",
    "    if len(vec) != 3:\n",
    "        raise Exception(\"Wrong number of coordinates in vector: {}, should be 3\".format(len(vec)))\n",
    "\n",
    "    return np.array([[0., -vec[2], vec[1]],[vec[2], 0., -vec[0]],[-vec[1], vec[0], 0.]])\n",
    "\n",
    "def cross_product(a, b):\n",
    "\n",
    "    def check_dimensions(vec, string):\n",
    "\n",
    "        if vec.ndim != 1:\n",
    "            raise Exception(\"The {} input is not a vector\".format(string))\n",
    "        if len(vec) != 3:\n",
    "            raise Exception(\"Wrong number of coordinates in the {0} vector: {1}, should be 3\".format(string, len(vec)))\n",
    "\n",
    "    check_dimensions(a, 'first')\n",
    "    check_dimensions(b, 'second')\n",
    "\n",
    "    return np.array([a[1]*b[2]-a[2]*b[1], a[2]*b[0]-a[0]*b[2], a[0]*b[1] - a[1]*b[0]])\n",
    "\n",
    "def quat_product(q1, q2):\n",
    "\n",
    "    def check_dimensions(q, string):\n",
    "\n",
    "        if q.ndim != 1:\n",
    "            raise Exception(\"The {} input is not a quaternion\".format(string))\n",
    "        if len(q) != 4:\n",
    "            raise Exception(\"Wrong number of coordinates in the {0} quaternion: {1}, should be 4\".format(string, len(q)))\n",
    "\n",
    "    check_dimensions(q1, 'first')\n",
    "    check_dimensions(q2, 'second')\n",
    "\n",
    "    q = np.zeros(4)\n",
    "    q[0] = q1[0] * q2[0] - q1[1:].dot(q2[1:])\n",
    "    q[1:] = q1[0] * q2[1:] + q2[0] * q1[1:] + cross_product(q1[1:], q2[1:])\n",
    "\n",
    "    return q\n",
    "\n",
    "def rotate_vec_with_quat(q, vec):\n",
    "\n",
    "    def check_dimensions(obj, is_quat):\n",
    "\n",
    "        if obj.ndim != 1:\n",
    "            raise Exception(\"Not a {}\".format('quaternion' * is_quat + 'vector' * (1 - is_quat)))\n",
    "        if len(obj) != (3 + 1 * is_quat):\n",
    "            raise Exception(\"Wrong number of coordinates in the {0}: {1}, should be {2}\"\n",
    "                            .format('quaternion' * is_quat + 'vector' * (1 - is_quat), len(obj), 3 + 1 * is_quat))\n",
    "\n",
    "    check_dimensions(q, True)\n",
    "    check_dimensions(vec, False)\n",
    "\n",
    "    q = quat_conjugate(q)\n",
    "\n",
    "    qxvec = cross_product(q[1:], vec)\n",
    "\n",
    "    return q[1:].dot(vec) * q[1:] + q[0]**2. * vec + 2. * q[0] * qxvec + cross_product(q[1:], qxvec)\n",
    "\n",
    "def quat2rpy(q0, q1, q2, q3):\n",
    "\n",
    "    roll = np.arctan2(2. * (q0 * q1 + q2 * q3), 1. - 2. * (q1**2 + q2**2))\n",
    "    pitch = np.arcsin(2. * (q0 * q2 - q1 * q3))\n",
    "    yaw = np.arctan2(2. * (q0 * q3 + q1 * q2), 1. - 2. * (q2**2 + q3**2))\n",
    "\n",
    "    return [roll, pitch, yaw]\n",
    "\n",
    "def quat_conjugate(q):\n",
    "\n",
    "    q_new = np.copy(q)\n",
    "    q_new[1:] *= -1.\n",
    "\n",
    "    return q_new"
   ]
  },
  {
   "cell_type": "code",
   "execution_count": 3,
   "metadata": {},
   "outputs": [],
   "source": [
    "MU = 3.986e+14                                 # [m^3 / s^2] standard gravitational parameter of the Earth\n",
    "MU_0 = 1.257e-6                                # [N / A^2] vacuum permeability\n",
    "MU_e = 7.94e+22                                # [A * m^2] magnetic dipole moment of the Earth\n",
    "\n",
    "R_e = 6371e+3                                  # [m] radius of the Earth\n",
    "altitude = 409e+3                              # [m] altitude of the orbit\n",
    "incl = 51.63*np.pi / 180                              # [rad] inclination of the orbit\n",
    "\n",
    "R_orb = R_e + altitude                         # [m] radius of the orbit\n",
    "omega_0 = np.sqrt(MU / R_orb**3.)              # [rad / s] angular velocity on the orbit\n",
    "B_0 = MU_e * MU_0 / (4 * np.pi * R_orb**3.)    # [T] magnitude of the magnetic field  on the orbit\n",
    "B_1 = MU_0 / (4 * np.pi)\n",
    "         \n",
    "J = np.diag(np.array([0.014, 0.015, 0.007]))     # [kg * m^2] inertia tensor for satellite\n",
    "Kw = 60 / omega_0                               # [N * m * s / T^2] stabilizing parameter for PID-regulator\n",
    "Ka = 12                                          # [N * m / T^2] orientating parameter for PID-regulator\n",
    "\n",
    "m_max = 0.1                                     # [A * m^2] maximal dipole moment\n",
    "B_bias = 0*1e-9                                     # [T] magnetometer bias\n",
    "sigma_meas = 0*1e-8                                  # [T] magnetometer measurement deviation\n",
    "sigma_M = 0*5*1e-9                                    # [N * m] disturbance of the torque\n",
    "sigma_gyro = 0*1e-7                               # [T] gyroscope measurement deviation\n",
    "sigma_B_actual = 0*1e-8                             # [T] noise to create actual magnetic field\n",
    "\n",
    "\n",
    "X_0 = np.zeros(7)                              # initial state vector\n",
    "X_0[0:4] = np.array([0.157, 0.693, 0.593, 0.378])   # just for tests I chose not random vector\n",
    "X_0[0:4] /= np.linalg.norm(X_0[0:4])\n",
    "X_0[4] = 1e-2\n",
    "X_0[5] = 1e-2                                      # [rad / s]\n",
    "X_0[6] = 1e-2                                          # [rad / s]\n",
    "\n",
    "\n",
    "T_meas = 1                                       # [s] sampling time step\n",
    "T_ctrl = 5                                      # [s] control time step\n",
    "T_loop = T_meas + T_ctrl"
   ]
  },
  {
   "cell_type": "code",
   "execution_count": 4,
   "metadata": {},
   "outputs": [],
   "source": [
    "# external torques\n",
    "\n",
    "def grav_torque(quat, orb_ang_vel, J):\n",
    "\n",
    "    Ae3 = rotate_vec_with_quat(quat, np.array([0., 0., 1.]))\n",
    "\n",
    "    return 3. * orb_ang_vel**2. * cross_product(Ae3, J.dot(Ae3))\n",
    "\n",
    "def dstrb_torque(sigma):\n",
    "\n",
    "    return np.random.normal(0, sigma)\n",
    "\n",
    "def external_torque(quat, orb_ang_vel, inertia_tensor, sigma):\n",
    "\n",
    "    return grav_torque(quat, orb_ang_vel, inertia_tensor) \\\n",
    "         + dstrb_torque(sigma)"
   ]
  },
  {
   "cell_type": "code",
   "execution_count": 5,
   "metadata": {},
   "outputs": [],
   "source": [
    "# control torques\n",
    "\n",
    "def magnetic_moment(quat, Omega_rel, magnetic_field, Kw, Ka, m_max):\n",
    "\n",
    "    if quat[0] == 0.:\n",
    "\n",
    "        multiplier = 1.\n",
    "\n",
    "    else:\n",
    "\n",
    "        multiplier = np.sign(quat[0])\n",
    "\n",
    "    S = 4. * quat[1:] * multiplier\n",
    "\n",
    "    m = -Kw * cross_product(magnetic_field, Omega_rel) - Ka * cross_product(magnetic_field, S)\n",
    "\n",
    "    if max(abs(m)) > m_max:\n",
    "        m *= m_max / max(abs(m))\n",
    "    \n",
    "    return m\n",
    "\n",
    "def ctrl_torque(m, actual_magnetic_field):\n",
    "\n",
    "    return cross_product(m, actual_magnetic_field)"
   ]
  },
  {
   "cell_type": "code",
   "execution_count": 6,
   "metadata": {},
   "outputs": [],
   "source": [
    "def magnetometer_readings(quat, B_env, B_bias, sigma_B):\n",
    "\n",
    "    return B_env + B_bias + np.random.normal(0, sigma_B, 3)\n",
    "\n",
    "# def measurement_model(quat, B_orb, sigma_B):\n",
    "\n",
    "#     return rotate_vec_with_quat(quat, B_orb) + np.random.normal(0, sigma_B, 3)"
   ]
  },
  {
   "cell_type": "code",
   "execution_count": 7,
   "metadata": {},
   "outputs": [],
   "source": [
    "def B_fun(u, i=incl, B_0=B_0):\n",
    "\n",
    "    \"\"\"\n",
    "    Magnetic field on the orbit\n",
    "    :param u: latitude in rad\n",
    "    :param i: inclination in rad\n",
    "    :returns: 3-axis magnetic field\n",
    "    \"\"\"\n",
    "\n",
    "    return np.array([np.cos(u)*np.sin(i), np.cos(i), -2.*np.sin(u)*np.sin(i)]) * B_0 "
   ]
  },
  {
   "cell_type": "code",
   "execution_count": 8,
   "metadata": {},
   "outputs": [],
   "source": [
    "def solve_euler_equation(t, T, x_init, J, J_inv, omega_0, m_ctrl, sigma_M, sigma_B_actual):\n",
    "    \n",
    "    def fun(u, x):\n",
    "\n",
    "        q = x[:4]\n",
    "        omega = x[4:]\n",
    "        \n",
    "        omega_rel = omega - rotate_vec_with_quat(q, np.array([0., omega_0, 0.]))\n",
    "        \n",
    "        B_orb = B_fun(omega_0 * (t+u))\n",
    "        B_env = rotate_vec_with_quat(q, B_orb) + np.random.normal(0, sigma_B_actual, 3)\n",
    "        \n",
    "        M = external_torque(q, omega_0, J, sigma_M) + ctrl_torque(m_ctrl, B_env)\n",
    "\n",
    "        x_dot = np.zeros(7)\n",
    "\n",
    "        x_dot[4:] = J_inv.dot(M - cross_product(omega, J.dot(omega)))\n",
    "        x_dot[0] = -0.5 * q[1:].dot(omega_rel)\n",
    "        x_dot[1:4] = 0.5 * (q[0] * omega_rel + cross_product(q[1:],omega_rel))\n",
    "\n",
    "        \n",
    "        return x_dot\n",
    "\n",
    "    \n",
    "\n",
    "    x_new = solve_ivp(fun, (0, T), x_init).y[:,-1]\n",
    "    return x_new"
   ]
  },
  {
   "cell_type": "code",
   "execution_count": 9,
   "metadata": {},
   "outputs": [],
   "source": [
    "def dynamics(N, T_loop, T_meas, T_ctrl, X_0, J, omega_0, \n",
    "                        Kw, Ka, sigma_M, sigma_meas, m_max, B_bias, \n",
    "                        sigma_B_actual, sigma_gyro, incl=incl):\n",
    "\n",
    "    J_inv = np.linalg.inv(J)\n",
    "\n",
    "    X = np.zeros((7, N))    # state vector\n",
    "    X[:,0] = X_0\n",
    "    X[:4,0] = normalize(X[:4,0])\n",
    "\n",
    "    Omega_rel = np.zeros((3, N))\n",
    "\n",
    "    t = 0\n",
    "    \n",
    "    m = np.zeros((3,N))\n",
    "    m[:,0] = np.array([0,0,0])\n",
    "\n",
    "    B_sens = np.zeros((3,N))\n",
    "    B_sens[:,0] = np.zeros(3)\n",
    "\n",
    "    for i in range(1, N): \n",
    "         \n",
    "        B_orb = B_fun(omega_0 * (t))\n",
    "        B_env = rotate_vec_with_quat(X[:4,i-1], B_orb) + np.random.normal(0, sigma_B_actual, 3)\n",
    "        B_sens[:,i] = magnetometer_readings(X[:4,i], B_env, B_bias, sigma_meas)\n",
    "# control\n",
    "\n",
    "        X[:7,i] = solve_euler_equation(t, T_ctrl, X[:7,i-1], J, J_inv, omega_0, \n",
    "                                      m[:,i-1], sigma_M, sigma_B_actual)               \n",
    "        X[:4,i] = normalize(X[:4,i])         #normalization\n",
    "        \n",
    "        t += T_ctrl    \n",
    "        \n",
    "# measurment\n",
    "        \n",
    "        t += T_meas\n",
    "\n",
    "        X[:7,i] = solve_euler_equation(t, T_meas, X[:7,i], J, J_inv, omega_0, \n",
    "                                       np.array([0,0,0]), sigma_M, sigma_B_actual)\n",
    "        X[:4,i] = normalize(X[:4,i])         #normalization\n",
    "        \n",
    "# control moment\n",
    "\n",
    "        Omega_rel[:,i] = X[4:7,i] - rotate_vec_with_quat(X[:4,i], np.array([0., omega_0, 0.]))\n",
    "        m[:,i] =  magnetic_moment(X[:4,i], Omega_rel[:,i], B_sens[:,i], Kw, Ka, m_max)\n",
    "\n",
    "        \n",
    "\n",
    "    return X, Omega_rel"
   ]
  },
  {
   "cell_type": "code",
   "execution_count": 10,
   "metadata": {},
   "outputs": [
    {
     "name": "stdout",
     "output_type": "stream",
     "text": [
      "Wall time: 1min 29s\n"
     ]
    }
   ],
   "source": [
    "%%time\n",
    "N = 3000\n",
    "\n",
    "time_sec = np.linspace(0, (N-1)*(T_meas + T_ctrl), N)\n",
    "time_hours = time_sec / 3600.\n",
    "\n",
    "X, Omg = dynamics(N, T_loop, T_meas, T_ctrl, X_0, J, omega_0, \n",
    "                        Kw, Ka, sigma_M, sigma_meas, m_max, B_bias, \n",
    "                        sigma_B_actual, sigma_gyro)\n"
   ]
  },
  {
   "cell_type": "code",
   "execution_count": 11,
   "metadata": {},
   "outputs": [],
   "source": [
    "roll, pitch, yaw = quat2rpy(X[0], X[1], X[2], X[3])"
   ]
  },
  {
   "cell_type": "code",
   "execution_count": 12,
   "metadata": {},
   "outputs": [
    {
     "data": {
      "image/png": "[encoded data removed]",
      "text/plain": [
       "<Figure size 720x864 with 4 Axes>"
      ]
     },
     "metadata": {
      "needs_background": "light"
     },
     "output_type": "display_data"
    }
   ],
   "source": [
    "f, ax = plt.subplots(4, sharex=True, figsize=(10,12))\n",
    "f.suptitle('Initial quaternion = [{0}, {1}, {2}, {3}]\\nInitial angular velocity = [{4}, {5}, {6}]'\n",
    "           .format(X_0[0], X_0[1], X_0[2], X_0[3], round(X_0[4], 3), round(X_0[5], 3), round(X_0[6], 3)), fontsize=16)\n",
    "ax[0].plot(time_hours, X[4], label='$\\omega_1$')\n",
    "ax[0].plot(time_hours, X[5], label='$\\omega_2$')\n",
    "ax[0].plot(time_hours, X[6], label='$\\omega_3$')\n",
    "ax[0].set_title('Absolute angular velocity', fontsize=14)\n",
    "ax[0].set_ylabel('rad/s', fontsize=10)\n",
    "ax[0].legend(bbox_to_anchor=(1.05, 1), loc=2, borderaxespad=0., fontsize=10)\n",
    "ax[1].plot(time_hours, Omg[0], label='$\\Omega_1$')\n",
    "ax[1].plot(time_hours, Omg[1], label='$\\Omega_2$')\n",
    "ax[1].plot(time_hours, Omg[2], label='$\\Omega_3$')\n",
    "ax[1].set_title('Relative angular velocity', fontsize=14)\n",
    "ax[1].set_ylabel('rad/s', fontsize=10)\n",
    "ax[1].legend(bbox_to_anchor=(1.05, 1), loc=2, borderaxespad=0., fontsize=10)\n",
    "ax[2].plot(time_hours, roll, label='Roll')\n",
    "ax[2].plot(time_hours, pitch, label='Pitch')\n",
    "ax[2].plot(time_hours, yaw, label='Yaw')\n",
    "ax[2].set_title('Orientation', fontsize=14)\n",
    "ax[2].set_ylabel('rad', fontsize=10)\n",
    "ax[2].legend(bbox_to_anchor=(1.05, 1), loc=2, borderaxespad=0., fontsize=10)\n",
    "ax[3].plot(time_hours, X[1], label='$q_1$')\n",
    "ax[3].plot(time_hours, X[2], label='$q_2$')\n",
    "ax[3].plot(time_hours, X[3], label='$q_3$')\n",
    "ax[3].plot(time_hours, X[0], label='$q_0$')\n",
    "ax[3].set_title('Quaternion components', fontsize=14)\n",
    "ax[3].set_ylabel('units', fontsize=10)\n",
    "ax[3].set_xlabel('hours', fontsize=10)\n",
    "ax[3].legend(bbox_to_anchor=(1.05, 1), loc=2, borderaxespad=0., fontsize=10)\n",
    "plt.show()"
   ]
  },
  {
   "cell_type": "code",
   "execution_count": 23,
   "metadata": {},
   "outputs": [
    {
     "name": "stdout",
     "output_type": "stream",
     "text": [
      "Using matplotlib backend: Qt5Agg\n"
     ]
    }
   ],
   "source": [
    "%matplotlib\n",
    "from mpl_toolkits.mplot3d import Axes3D\n",
    "# from pyquaternion import Quaternion\n",
    "import matplotlib\n"
   ]
  },
  {
   "cell_type": "code",
   "execution_count": 24,
   "metadata": {},
   "outputs": [],
   "source": [
    "def rotate_each_vector(array_of_vector, q):\n",
    "    result = np.zeros(array_of_vector.shape)\n",
    "    i = 0\n",
    "    for vec in array_of_vector:\n",
    "        result[i] = rotate_vec_with_quat(q, vec) \n",
    "        i+=1\n",
    "    return result"
   ]
  },
  {
   "cell_type": "code",
   "execution_count": 25,
   "metadata": {},
   "outputs": [],
   "source": [
    "from matplotlib.animation import FuncAnimation\n",
    "from matplotlib.patches import FancyArrowPatch\n",
    "from mpl_toolkits.mplot3d import proj3d\n",
    "\n",
    "\n",
    "class Arrow3D(FancyArrowPatch):\n",
    "\n",
    "    def __init__(self, xs, ys, zs, *args, **kwargs):\n",
    "        FancyArrowPatch.__init__(self, (0, 0), (0, 0), *args, **kwargs)\n",
    "        self._verts3d = xs, ys, zs\n",
    "    def change_vert(self, xs, ys, zs):\n",
    "        self._verts3d = xs, ys, zs\n",
    "    def draw(self, renderer):\n",
    "        xs3d, ys3d, zs3d = self._verts3d\n",
    "        xs, ys, zs = proj3d.proj_transform(xs3d, ys3d, zs3d, renderer.M)\n",
    "        self.set_positions((xs[0], ys[0]), (xs[1], ys[1]))\n",
    "        FancyArrowPatch.draw(self, renderer)"
   ]
  },
  {
   "cell_type": "code",
   "execution_count": 26,
   "metadata": {},
   "outputs": [],
   "source": [
    "def get_cube(q):   \n",
    "    precision = 5\n",
    "    phi = np.arange(1,2*precision,2) * np.pi / 4\n",
    "    Phi, Theta = np.meshgrid(phi, phi)\n",
    "\n",
    "    x = np.cos(Phi) *np.sin(Theta) * a\n",
    "    y = np.sin(Phi) *np.sin(Theta) * b\n",
    "    z = np.cos(Theta)/np.sqrt(2) * c    \n",
    "\n",
    "    x_r = np.reshape(x, precision**2)\n",
    "    y_r = np.reshape(y, precision**2)\n",
    "    z_r = np.reshape(z, precision**2)\n",
    "    \n",
    "    xyz_r = np.array([x_r, y_r, z_r]).transpose()\n",
    "\n",
    "    xyz_rotate = rotate_each_vector(xyz_r, q)\n",
    "    x_r_r = xyz_rotate[:,0].reshape(precision, precision)\n",
    "    y_r_r = xyz_rotate[:,1].reshape(precision, precision)\n",
    "    z_r_r = xyz_rotate[:,2].reshape(precision, precision)\n",
    "    return x_r_r, y_r_r, z_r_r\n",
    "\n",
    "def update(idx):\n",
    "    global ax\n",
    "    global wfr1\n",
    "    global vec2\n",
    "    \n",
    "    if wfr1:\n",
    "         ax.collections.remove(wfr1)\n",
    "    q = X[0:4, idx]\n",
    "    \n",
    "    x,y,z = get_cube(q)\n",
    "    wfr1 = ax.plot_surface(x, y, z, color ='pink', alpha=0.5)\n",
    "    vec1_r = rotate_vec_with_quat(q, vec1)\n",
    "    vec2_r = rotate_vec_with_quat(q, vec2)\n",
    "    vec3_r = rotate_vec_with_quat(q, vec3)\n",
    "    \n",
    "    arrow1.change_vert([0, vec1_r[0]], [0, vec1_r[1]], [0, vec1_r[2]])\n",
    "    arrow2.change_vert([0, vec2_r[0]], [0, vec2_r[1]], [0, vec2_r[2]])\n",
    "    arrow3.change_vert([0, vec3_r[0]], [0, vec3_r[1]], [0, vec3_r[2]])\n",
    "    \n",
    "fig = plt.figure(figsize=(8,6))\n",
    "ax = fig.add_subplot(111, projection='3d')\n",
    "\n",
    "q = X[0:4, 0]\n",
    "a = 2\n",
    "b = 3\n",
    "c = 5\n",
    "x,y,z = get_cube(q)\n",
    "\n",
    "\n",
    "# draw a vector        \n",
    "vec1 = np.array([1.5*a, 0., 0.])\n",
    "vec2 = np.array([0., 1.5*b, 0.])\n",
    "vec3 = np.array([0., 0., 1.5*c])\n",
    "\n",
    "arrow1 = Arrow3D([0, vec1[0]], [0, vec1[1]], [0, vec1[2]], mutation_scale=20,\n",
    "            lw=1, arrowstyle=\"-|>\", color=\"k\")\n",
    "arrow2 = Arrow3D([0, vec2[0]], [0, vec2[1]], [0, vec2[2]], mutation_scale=20,\n",
    "            lw=1, arrowstyle=\"-|>\", color=\"k\")\n",
    "arrow3 = Arrow3D([0, vec3[0]], [0, vec3[1]], [0, vec3[2]], mutation_scale=20,\n",
    "            lw=1, arrowstyle=\"-|>\", color=\"k\")\n",
    "# vec1 = [10,10,10]\n",
    "\n",
    "wfr1 = ax.plot_surface(x, y, z, color ='pink', alpha=0.5)\n",
    "vec1_1 = ax.add_artist(arrow1)\n",
    "vec1_2 = ax.add_artist(arrow2)\n",
    "vec1_3 = ax.add_artist(arrow3)\n",
    "\n",
    "lim = 3\n",
    "ax.set_xlim(-lim,lim)\n",
    "ax.set_ylim(-lim,lim)\n",
    "ax.set_zlim(-lim,lim)\n",
    "ani = FuncAnimation(fig, update, frames=N, interval = 1)\n",
    "\n",
    "plt.show()"
   ]
  },
  {
   "cell_type": "markdown",
   "metadata": {},
   "source": [
    "to run an animation, you need to run 4 last cells again"
   ]
  },
  {
   "cell_type": "code",
   "execution_count": 17,
   "metadata": {},
   "outputs": [
    {
     "data": {
      "text/plain": [
       "array([0.15704469, 0.69319724, 0.59316878, 0.37810759])"
      ]
     },
     "execution_count": 17,
     "metadata": {},
     "output_type": "execute_result"
    }
   ],
   "source": [
    "abc = X[0:4,:].T\n",
    "abc[0]"
   ]
  },
  {
   "cell_type": "code",
   "execution_count": 18,
   "metadata": {},
   "outputs": [],
   "source": [
    "from scipy.spatial.transform import Rotation as R\n",
    "r = R.from_quat(abc)\n",
    "eul_ang = r.as_euler('xyz')"
   ]
  },
  {
   "cell_type": "code",
   "execution_count": 19,
   "metadata": {},
   "outputs": [],
   "source": [
    "np.savetxt(\"rotations.csv\", eul_ang, delimiter=\",\")"
   ]
  },
  {
   "cell_type": "code",
   "execution_count": 1,
   "metadata": {},
   "outputs": [],
   "source": [
    "f = open(\"rotations.csv\", \"r\")\n",
    "res = []\n",
    "for x in f:\n",
    "    b = list(map(float, x.rstrip().split(',')))\n",
    "    res.append(b)"
   ]
  },
  {
   "cell_type": "code",
   "execution_count": 2,
   "metadata": {},
   "outputs": [
    {
     "data": {
      "text/plain": [
       "[1.581815559912851, 0.3446829200691701, 2.355033076721201]"
      ]
     },
     "execution_count": 2,
     "metadata": {},
     "output_type": "execute_result"
    }
   ],
   "source": [
    "res[0]"
   ]
  },
  {
   "cell_type": "code",
   "execution_count": 22,
   "metadata": {},
   "outputs": [],
   "source": [
    "# #blender code\n",
    "\n",
    "# import bpy\n",
    "# f = open(\"C:\\\\Users\\\\nanne\\\\OneDrive\\\\Документы\\\\Сколтех\\\\Master thesis\\\\ADCS_code\\\\RMM\\\\rotations.csv\", \"r\")\n",
    "# res = []\n",
    "# for x in f:\n",
    "#     b = list(map(float, x.rstrip().split(',')))\n",
    "#     res.append(b)\n",
    "    \n",
    "# mycube = bpy.data.objects['Cube']\n",
    "# mycube.rotation_mode = 'XYZ'\n",
    "# for i in range(len(res)):\n",
    "#     r = res[i]\n",
    "#     mycube.rotation_euler = r\n",
    "#     mycube.keyframe_insert('rotation_euler' ,frame=i)"
   ]
  }
 ],
 "metadata": {
  "kernelspec": {
   "display_name": "Python 3",
   "language": "python",
   "name": "python3"
  },
  "language_info": {
   "codemirror_mode": {
    "name": "ipython",
    "version": 3
   },
   "file_extension": ".py",
   "mimetype": "text/x-python",
   "name": "python",
   "nbconvert_exporter": "python",
   "pygments_lexer": "ipython3",
   "version": "3.7.6"
  }
 },
 "nbformat": 4,
 "nbformat_minor": 4
}
